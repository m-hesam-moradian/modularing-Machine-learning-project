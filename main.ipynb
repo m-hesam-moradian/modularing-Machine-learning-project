{
 "cells": [
  {
   "cell_type": "code",
   "execution_count": 6,
   "id": "5d79e632",
   "metadata": {},
   "outputs": [],
   "source": [
    "from src.data_loader import load_data\n",
    "from src.preprocess import split_and_scale\n",
    "from src.evaluate import evaluate_model\n",
    "import pandas as pd\n",
    "from openpyxl import load_workbook\n",
    "from openpyxl.styles import Alignment, PatternFill\n",
    "from src.model_zoo import model_module \n"
   ]
  },
  {
   "cell_type": "markdown",
   "id": "c112641a",
   "metadata": {},
   "source": [
    "# ==== Load & Prepare Data ===="
   ]
  },
  {
   "cell_type": "code",
   "execution_count": 7,
   "id": "1764d412",
   "metadata": {},
   "outputs": [],
   "source": [
    "\n",
    "excel_path = \"Data/Fraud Detection Dataset.xlsx\"\n",
    "X, y = load_data(excel_path, \"Fraudulent\")\n",
    "x_train, x_test, y_train, y_test = split_and_scale(X, y,test_size=0.5)"
   ]
  },
  {
   "cell_type": "markdown",
   "id": "ca27e898",
   "metadata": {},
   "source": [
    "# ==== Train Model ===="
   ]
  },
  {
   "cell_type": "code",
   "execution_count": null,
   "id": "6f867385",
   "metadata": {},
   "outputs": [
    {
     "name": "stdout",
     "output_type": "stream",
     "text": [
      "\n",
      "RF Evaluation:\n",
      "[Train]  Accuracy: 0.9498 - Precision: 0.9527 - Recall: 0.9468 - F1: 0.9497\n",
      "[Test]   Accuracy: 0.5105 - Precision: 0.4995 - Recall: 0.5000 - F1: 0.4997\n",
      "[All]    Accuracy: 0.7301 - Precision: 0.7281 - Recall: 0.7262 - F1: 0.7271\n",
      "\n",
      "ANN Evaluation:\n"
     ]
    },
    {
     "name": "stderr",
     "output_type": "stream",
     "text": [
      "d:\\Python\\Lib\\site-packages\\sklearn\\neural_network\\_multilayer_perceptron.py:780: ConvergenceWarning: Stochastic Optimizer: Maximum iterations (300) reached and the optimization hasn't converged yet.\n",
      "  warnings.warn(\n"
     ]
    },
    {
     "name": "stdout",
     "output_type": "stream",
     "text": [
      "[Train]  Accuracy: 0.6674 - Precision: 0.6663 - Recall: 0.6738 - F1: 0.6701\n",
      "[Test]   Accuracy: 0.4982 - Precision: 0.4877 - Recall: 0.5210 - F1: 0.5038\n",
      "[All]    Accuracy: 0.5828 - Precision: 0.5757 - Recall: 0.5983 - F1: 0.5868\n",
      "\n",
      "KNN Evaluation:\n",
      "[Train]  Accuracy: 0.6392 - Precision: 0.6861 - Recall: 0.5164 - F1: 0.5893\n",
      "[Test]   Accuracy: 0.4962 - Precision: 0.4801 - Recall: 0.3658 - F1: 0.4152\n",
      "[All]    Accuracy: 0.5677 - Precision: 0.5837 - Recall: 0.4420 - F1: 0.5031\n",
      "\n",
      "DT Evaluation:\n",
      "[Train]  Accuracy: 0.9339 - Precision: 0.9436 - Recall: 0.9233 - F1: 0.9333\n",
      "[Test]   Accuracy: 0.4936 - Precision: 0.4825 - Recall: 0.4906 - F1: 0.4865\n",
      "[All]    Accuracy: 0.7137 - Precision: 0.7115 - Recall: 0.7096 - F1: 0.7105\n"
     ]
    }
   ],
   "source": [
    "from src.model_zoo import model_module\n",
    "from src. import ModelEvaluator\n",
    "\n",
    "models = {\n",
    "    \"RF\": model_module(\n",
    "        name=\"RF\",\n",
    "        library=\"ensemble\",\n",
    "        function=\"RandomForestClassifier\",\n",
    "        attributes={\n",
    "            \"n_estimators\": 200,\n",
    "            \"max_depth\": 10,\n",
    "            \"min_samples_split\": 10,\n",
    "            \"min_samples_leaf\": 5,\n",
    "            \"max_features\": \"sqrt\",\n",
    "            \"bootstrap\": True,\n",
    "            \"random_state\": 42\n",
    "        }\n",
    "    ),\n",
    "    \"ANN\": model_module(\n",
    "        name=\"ANN\",\n",
    "        library=\"neural_network\",\n",
    "        function=\"MLPClassifier\",\n",
    "        attributes={\n",
    "            \"hidden_layer_sizes\": (100,),\n",
    "            \"max_iter\": 300,\n",
    "            \"random_state\": 42\n",
    "        }\n",
    "    ),\n",
    "    \"KNN\": model_module(\n",
    "        name=\"KNN\",\n",
    "        library=\"neighbors\",\n",
    "        function=\"KNeighborsClassifier\",\n",
    "        attributes={\n",
    "            \"n_neighbors\": 8,\n",
    "            \"algorithm\": \"kd_tree\",\n",
    "            \"leaf_size\": 28\n",
    "        }\n",
    "    ),\n",
    "    \"DT\": model_module(\n",
    "        name=\"DT\",\n",
    "        library=\"tree\",\n",
    "        function=\"DecisionTreeClassifier\",\n",
    "        attributes={\n",
    "            \"max_depth\": 20,\n",
    "            \"min_samples_split\": 5,\n",
    "            \"criterion\": \"gini\"\n",
    "        }\n",
    "    )\n",
    "}\n"
   ]
  },
  {
   "cell_type": "markdown",
   "id": "c44cecb4",
   "metadata": {},
   "source": [
    "\n",
    "# ==== Create DataFrames for Predictions ===="
   ]
  },
  {
   "cell_type": "code",
   "execution_count": 1,
   "id": "574e6e56",
   "metadata": {},
   "outputs": [
    {
     "ename": "NameError",
     "evalue": "name 'pd' is not defined",
     "output_type": "error",
     "traceback": [
      "\u001b[31m---------------------------------------------------------------------------\u001b[39m",
      "\u001b[31mNameError\u001b[39m                                 Traceback (most recent call last)",
      "\u001b[36mCell\u001b[39m\u001b[36m \u001b[39m\u001b[32mIn[1]\u001b[39m\u001b[32m, line 1\u001b[39m\n\u001b[32m----> \u001b[39m\u001b[32m1\u001b[39m df_train = \u001b[43mpd\u001b[49m.DataFrame({\n\u001b[32m      2\u001b[39m     \u001b[33m\"\u001b[39m\u001b[33my_train\u001b[39m\u001b[33m\"\u001b[39m: y_train,\n\u001b[32m      3\u001b[39m     \u001b[33m\"\u001b[39m\u001b[33my_pred_train\u001b[39m\u001b[33m\"\u001b[39m: results[\u001b[33m\"\u001b[39m\u001b[33my_pred_train\u001b[39m\u001b[33m\"\u001b[39m],\n\u001b[32m      4\u001b[39m }).reset_index(drop=\u001b[38;5;28;01mTrue\u001b[39;00m)\n\u001b[32m      6\u001b[39m df_test = pd.DataFrame({\n\u001b[32m      7\u001b[39m     \u001b[33m\"\u001b[39m\u001b[33my_test\u001b[39m\u001b[33m\"\u001b[39m: y_test,\n\u001b[32m      8\u001b[39m     \u001b[33m\"\u001b[39m\u001b[33my_pred_test\u001b[39m\u001b[33m\"\u001b[39m: results[\u001b[33m\"\u001b[39m\u001b[33my_pred_test\u001b[39m\u001b[33m\"\u001b[39m],\n\u001b[32m      9\u001b[39m }).reset_index(drop=\u001b[38;5;28;01mTrue\u001b[39;00m)\n\u001b[32m     11\u001b[39m df_combined = pd.concat([df_train, df_test], axis=\u001b[32m1\u001b[39m)\n",
      "\u001b[31mNameError\u001b[39m: name 'pd' is not defined"
     ]
    }
   ],
   "source": [
    "\n",
    "df_train = pd.DataFrame({\n",
    "    \"y_train\": y_train,\n",
    "    \"y_pred_train\": results[\"y_pred_train\"],\n",
    "}).reset_index(drop=True)\n",
    "\n",
    "df_test = pd.DataFrame({\n",
    "    \"y_test\": y_test,\n",
    "    \"y_pred_test\": results[\"y_pred_test\"],\n",
    "}).reset_index(drop=True)\n",
    "\n",
    "df_combined = pd.concat([df_train, df_test], axis=1)\n"
   ]
  },
  {
   "cell_type": "markdown",
   "id": "3ea3512a",
   "metadata": {},
   "source": [
    "# ==== Save Predictions to Excel ===="
   ]
  },
  {
   "cell_type": "code",
   "execution_count": null,
   "id": "97dbffbf",
   "metadata": {},
   "outputs": [],
   "source": [
    "\n",
    "with pd.ExcelWriter(excel_path, engine=\"openpyxl\", mode=\"a\", if_sheet_exists=\"replace\") as writer:\n",
    "    df_combined.to_excel(writer, sheet_name=\"RF\", index=False)\n"
   ]
  },
  {
   "cell_type": "markdown",
   "id": "de68269e",
   "metadata": {},
   "source": [
    "# ==== Write Metrics Next to Predictions ===="
   ]
  },
  {
   "cell_type": "code",
   "execution_count": null,
   "id": "704276b4",
   "metadata": {},
   "outputs": [],
   "source": [
    "\n",
    "book = load_workbook(excel_path)\n",
    "sheet = book[\"RF\"]\n",
    "\n",
    "metrics = {\n",
    "    \"train_accuracy\": results[\"train_accuracy\"],\n",
    "    \"test_accuracy\": results[\"test_accuracy\"],\n",
    "    \"precision\": results[\"precision\"],\n",
    "    \"recall\": results[\"recall\"],\n",
    "}\n",
    "\n",
    "start_col = sheet.max_column + 2\n",
    "for i, (key, value) in enumerate(metrics.items()):\n",
    "    sheet.cell(row=1, column=start_col + i, value=key).alignment = Alignment(horizontal=\"center\", vertical=\"center\")\n",
    "    sheet.cell(row=2, column=start_col + i, value=value).alignment = Alignment(horizontal=\"center\", vertical=\"center\")\n"
   ]
  },
  {
   "cell_type": "markdown",
   "id": "8eaf8c29",
   "metadata": {},
   "source": [
    "# ==== Style the Sheet ===="
   ]
  },
  {
   "cell_type": "code",
   "execution_count": null,
   "id": "4d3c9f2e",
   "metadata": {},
   "outputs": [],
   "source": [
    "\n",
    "green_fill = PatternFill(start_color=\"00FF00\", end_color=\"00FF00\", fill_type=\"solid\")\n",
    "yellow_fill = PatternFill(start_color=\"FFFF00\", end_color=\"FFFF00\", fill_type=\"solid\")\n",
    "header = [cell.value for cell in sheet[1]]\n",
    "\n",
    "for row in sheet.iter_rows():\n",
    "    for i, cell in enumerate(row):\n",
    "        cell.alignment = Alignment(horizontal=\"center\", vertical=\"center\")\n",
    "        if cell.row == 1:\n",
    "            cell.fill = green_fill\n",
    "        elif header[i] and \"pred\" in str(header[i]).lower():\n",
    "            cell.fill = yellow_fill\n",
    "\n",
    "book.save(excel_path)"
   ]
  }
 ],
 "metadata": {
  "kernelspec": {
   "display_name": "Python 3",
   "language": "python",
   "name": "python3"
  },
  "language_info": {
   "codemirror_mode": {
    "name": "ipython",
    "version": 3
   },
   "file_extension": ".py",
   "mimetype": "text/x-python",
   "name": "python",
   "nbconvert_exporter": "python",
   "pygments_lexer": "ipython3",
   "version": "3.12.8"
  }
 },
 "nbformat": 4,
 "nbformat_minor": 5
}
